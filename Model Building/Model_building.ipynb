{
 "cells": [
  {
   "cell_type": "code",
   "execution_count": 1,
   "metadata": {},
   "outputs": [],
   "source": [
    "from sklearn.preprocessing import Imputer\n",
    "from sklearn.model_selection import KFold\n",
    "from sklearn import linear_model\n",
    "from sklearn.metrics import make_scorer\n",
    "\n",
    "from sklearn import svm\n",
    "import numpy as np # linear algebra\n",
    "import pandas as pd # data processing, CSV file I/O (e.g. pd.read_csv)\n",
    "import matplotlib.pyplot as plt\n",
    "from sklearn.linear_model import LinearRegression\n",
    "\n",
    "from sklearn import neighbors\n",
    "from math import sqrt"
   ]
  },
  {
   "cell_type": "code",
   "execution_count": 12,
   "metadata": {},
   "outputs": [],
   "source": [
    "df = pd.read_csv(\"C:\\\\Users\\\\dell\\\\Desktop\\\\Data Science Project\\\\main_train.csv\")\n"
   ]
  },
  {
   "cell_type": "code",
   "execution_count": 4,
   "metadata": {
    "scrolled": true
   },
   "outputs": [
    {
     "data": {
      "text/html": [
       "<div>\n",
       "<style scoped>\n",
       "    .dataframe tbody tr th:only-of-type {\n",
       "        vertical-align: middle;\n",
       "    }\n",
       "\n",
       "    .dataframe tbody tr th {\n",
       "        vertical-align: top;\n",
       "    }\n",
       "\n",
       "    .dataframe thead th {\n",
       "        text-align: right;\n",
       "    }\n",
       "</style>\n",
       "<table border=\"1\" class=\"dataframe\">\n",
       "  <thead>\n",
       "    <tr style=\"text-align: right;\">\n",
       "      <th></th>\n",
       "      <th>S.No</th>\n",
       "      <th>ambient</th>\n",
       "      <th>coolant</th>\n",
       "      <th>u_d</th>\n",
       "      <th>u_q</th>\n",
       "      <th>motor_speed</th>\n",
       "      <th>torque</th>\n",
       "      <th>i_d</th>\n",
       "      <th>i_q</th>\n",
       "      <th>pm</th>\n",
       "      <th>stator_yoke</th>\n",
       "      <th>stator_tooth</th>\n",
       "      <th>stator_winding</th>\n",
       "      <th>profile_id</th>\n",
       "    </tr>\n",
       "  </thead>\n",
       "  <tbody>\n",
       "    <tr>\n",
       "      <td>0</td>\n",
       "      <td>1</td>\n",
       "      <td>-0.752143</td>\n",
       "      <td>-1.118446</td>\n",
       "      <td>0.327935</td>\n",
       "      <td>-1.297858</td>\n",
       "      <td>-1.222428</td>\n",
       "      <td>-0.250182</td>\n",
       "      <td>1.029572</td>\n",
       "      <td>-0.245860</td>\n",
       "      <td>-2.522071</td>\n",
       "      <td>-1.831422</td>\n",
       "      <td>-2.066143</td>\n",
       "      <td>-2.018033</td>\n",
       "      <td>4</td>\n",
       "    </tr>\n",
       "    <tr>\n",
       "      <td>1</td>\n",
       "      <td>3</td>\n",
       "      <td>-0.782892</td>\n",
       "      <td>-1.116681</td>\n",
       "      <td>0.332771</td>\n",
       "      <td>-1.301822</td>\n",
       "      <td>-1.222428</td>\n",
       "      <td>-0.249431</td>\n",
       "      <td>1.029448</td>\n",
       "      <td>-0.245818</td>\n",
       "      <td>-2.522673</td>\n",
       "      <td>-1.830400</td>\n",
       "      <td>-2.064073</td>\n",
       "      <td>-2.017343</td>\n",
       "      <td>4</td>\n",
       "    </tr>\n",
       "    <tr>\n",
       "      <td>2</td>\n",
       "      <td>4</td>\n",
       "      <td>-0.780935</td>\n",
       "      <td>-1.116764</td>\n",
       "      <td>0.333700</td>\n",
       "      <td>-1.301852</td>\n",
       "      <td>-1.222430</td>\n",
       "      <td>-0.248636</td>\n",
       "      <td>1.032845</td>\n",
       "      <td>-0.246955</td>\n",
       "      <td>-2.521639</td>\n",
       "      <td>-1.830333</td>\n",
       "      <td>-2.063137</td>\n",
       "      <td>-2.017632</td>\n",
       "      <td>4</td>\n",
       "    </tr>\n",
       "    <tr>\n",
       "      <td>3</td>\n",
       "      <td>5</td>\n",
       "      <td>-0.774043</td>\n",
       "      <td>-1.116775</td>\n",
       "      <td>0.335206</td>\n",
       "      <td>-1.303118</td>\n",
       "      <td>-1.222429</td>\n",
       "      <td>-0.248701</td>\n",
       "      <td>1.031807</td>\n",
       "      <td>-0.246610</td>\n",
       "      <td>-2.521900</td>\n",
       "      <td>-1.830498</td>\n",
       "      <td>-2.062795</td>\n",
       "      <td>-2.018145</td>\n",
       "      <td>4</td>\n",
       "    </tr>\n",
       "    <tr>\n",
       "      <td>4</td>\n",
       "      <td>6</td>\n",
       "      <td>-0.762936</td>\n",
       "      <td>-1.116955</td>\n",
       "      <td>0.334901</td>\n",
       "      <td>-1.303017</td>\n",
       "      <td>-1.222429</td>\n",
       "      <td>-0.248197</td>\n",
       "      <td>1.031031</td>\n",
       "      <td>-0.246341</td>\n",
       "      <td>-2.522203</td>\n",
       "      <td>-1.831931</td>\n",
       "      <td>-2.062549</td>\n",
       "      <td>-2.017884</td>\n",
       "      <td>4</td>\n",
       "    </tr>\n",
       "    <tr>\n",
       "      <td>5</td>\n",
       "      <td>8</td>\n",
       "      <td>-0.738450</td>\n",
       "      <td>-1.113986</td>\n",
       "      <td>0.336256</td>\n",
       "      <td>-1.305155</td>\n",
       "      <td>-1.222432</td>\n",
       "      <td>-0.248321</td>\n",
       "      <td>1.030107</td>\n",
       "      <td>-0.246035</td>\n",
       "      <td>-2.522844</td>\n",
       "      <td>-1.832182</td>\n",
       "      <td>-2.061953</td>\n",
       "      <td>-2.017213</td>\n",
       "      <td>4</td>\n",
       "    </tr>\n",
       "    <tr>\n",
       "      <td>6</td>\n",
       "      <td>10</td>\n",
       "      <td>-0.727130</td>\n",
       "      <td>-1.109486</td>\n",
       "      <td>0.335988</td>\n",
       "      <td>-1.305633</td>\n",
       "      <td>-1.222431</td>\n",
       "      <td>-0.248294</td>\n",
       "      <td>1.029636</td>\n",
       "      <td>-0.245888</td>\n",
       "      <td>-2.522677</td>\n",
       "      <td>-1.831438</td>\n",
       "      <td>-2.062317</td>\n",
       "      <td>-2.018180</td>\n",
       "      <td>4</td>\n",
       "    </tr>\n",
       "    <tr>\n",
       "      <td>7</td>\n",
       "      <td>13</td>\n",
       "      <td>-0.704877</td>\n",
       "      <td>-1.109986</td>\n",
       "      <td>0.336241</td>\n",
       "      <td>-1.305820</td>\n",
       "      <td>-1.222434</td>\n",
       "      <td>-0.248002</td>\n",
       "      <td>1.029318</td>\n",
       "      <td>-0.245780</td>\n",
       "      <td>-2.522214</td>\n",
       "      <td>-1.832052</td>\n",
       "      <td>-2.062118</td>\n",
       "      <td>-2.017589</td>\n",
       "      <td>4</td>\n",
       "    </tr>\n",
       "    <tr>\n",
       "      <td>8</td>\n",
       "      <td>14</td>\n",
       "      <td>-0.682534</td>\n",
       "      <td>-1.111362</td>\n",
       "      <td>0.335566</td>\n",
       "      <td>-1.303240</td>\n",
       "      <td>-1.222430</td>\n",
       "      <td>-0.247513</td>\n",
       "      <td>1.029274</td>\n",
       "      <td>-0.245775</td>\n",
       "      <td>-2.521926</td>\n",
       "      <td>-1.832031</td>\n",
       "      <td>-2.061756</td>\n",
       "      <td>-2.017257</td>\n",
       "      <td>4</td>\n",
       "    </tr>\n",
       "    <tr>\n",
       "      <td>9</td>\n",
       "      <td>17</td>\n",
       "      <td>-0.620099</td>\n",
       "      <td>-1.114285</td>\n",
       "      <td>0.335909</td>\n",
       "      <td>-1.305675</td>\n",
       "      <td>-1.222430</td>\n",
       "      <td>-0.247884</td>\n",
       "      <td>1.029211</td>\n",
       "      <td>-0.245729</td>\n",
       "      <td>-2.522311</td>\n",
       "      <td>-1.831778</td>\n",
       "      <td>-2.061331</td>\n",
       "      <td>-2.017632</td>\n",
       "      <td>4</td>\n",
       "    </tr>\n",
       "  </tbody>\n",
       "</table>\n",
       "</div>"
      ],
      "text/plain": [
       "   S.No   ambient   coolant       u_d       u_q  motor_speed    torque  \\\n",
       "0     1 -0.752143 -1.118446  0.327935 -1.297858    -1.222428 -0.250182   \n",
       "1     3 -0.782892 -1.116681  0.332771 -1.301822    -1.222428 -0.249431   \n",
       "2     4 -0.780935 -1.116764  0.333700 -1.301852    -1.222430 -0.248636   \n",
       "3     5 -0.774043 -1.116775  0.335206 -1.303118    -1.222429 -0.248701   \n",
       "4     6 -0.762936 -1.116955  0.334901 -1.303017    -1.222429 -0.248197   \n",
       "5     8 -0.738450 -1.113986  0.336256 -1.305155    -1.222432 -0.248321   \n",
       "6    10 -0.727130 -1.109486  0.335988 -1.305633    -1.222431 -0.248294   \n",
       "7    13 -0.704877 -1.109986  0.336241 -1.305820    -1.222434 -0.248002   \n",
       "8    14 -0.682534 -1.111362  0.335566 -1.303240    -1.222430 -0.247513   \n",
       "9    17 -0.620099 -1.114285  0.335909 -1.305675    -1.222430 -0.247884   \n",
       "\n",
       "        i_d       i_q        pm  stator_yoke  stator_tooth  stator_winding  \\\n",
       "0  1.029572 -0.245860 -2.522071    -1.831422     -2.066143       -2.018033   \n",
       "1  1.029448 -0.245818 -2.522673    -1.830400     -2.064073       -2.017343   \n",
       "2  1.032845 -0.246955 -2.521639    -1.830333     -2.063137       -2.017632   \n",
       "3  1.031807 -0.246610 -2.521900    -1.830498     -2.062795       -2.018145   \n",
       "4  1.031031 -0.246341 -2.522203    -1.831931     -2.062549       -2.017884   \n",
       "5  1.030107 -0.246035 -2.522844    -1.832182     -2.061953       -2.017213   \n",
       "6  1.029636 -0.245888 -2.522677    -1.831438     -2.062317       -2.018180   \n",
       "7  1.029318 -0.245780 -2.522214    -1.832052     -2.062118       -2.017589   \n",
       "8  1.029274 -0.245775 -2.521926    -1.832031     -2.061756       -2.017257   \n",
       "9  1.029211 -0.245729 -2.522311    -1.831778     -2.061331       -2.017632   \n",
       "\n",
       "   profile_id  \n",
       "0           4  \n",
       "1           4  \n",
       "2           4  \n",
       "3           4  \n",
       "4           4  \n",
       "5           4  \n",
       "6           4  \n",
       "7           4  \n",
       "8           4  \n",
       "9           4  "
      ]
     },
     "execution_count": 4,
     "metadata": {},
     "output_type": "execute_result"
    }
   ],
   "source": [
    "df.head(10)"
   ]
  },
  {
   "cell_type": "code",
   "execution_count": 5,
   "metadata": {},
   "outputs": [
    {
     "name": "stdout",
     "output_type": "stream",
     "text": [
      "<class 'pandas.core.frame.DataFrame'>\n",
      "RangeIndex: 698649 entries, 0 to 698648\n",
      "Data columns (total 14 columns):\n",
      "S.No              698649 non-null int64\n",
      "ambient           698649 non-null float64\n",
      "coolant           698649 non-null float64\n",
      "u_d               698649 non-null float64\n",
      "u_q               698649 non-null float64\n",
      "motor_speed       698649 non-null float64\n",
      "torque            698649 non-null float64\n",
      "i_d               698649 non-null float64\n",
      "i_q               698649 non-null float64\n",
      "pm                698649 non-null float64\n",
      "stator_yoke       698649 non-null float64\n",
      "stator_tooth      698649 non-null float64\n",
      "stator_winding    698649 non-null float64\n",
      "profile_id        698649 non-null int64\n",
      "dtypes: float64(12), int64(2)\n",
      "memory usage: 74.6 MB\n"
     ]
    }
   ],
   "source": [
    "df.info()"
   ]
  },
  {
   "cell_type": "code",
   "execution_count": 7,
   "metadata": {},
   "outputs": [
    {
     "data": {
      "text/html": [
       "<div>\n",
       "<style scoped>\n",
       "    .dataframe tbody tr th:only-of-type {\n",
       "        vertical-align: middle;\n",
       "    }\n",
       "\n",
       "    .dataframe tbody tr th {\n",
       "        vertical-align: top;\n",
       "    }\n",
       "\n",
       "    .dataframe thead th {\n",
       "        text-align: right;\n",
       "    }\n",
       "</style>\n",
       "<table border=\"1\" class=\"dataframe\">\n",
       "  <thead>\n",
       "    <tr style=\"text-align: right;\">\n",
       "      <th></th>\n",
       "      <th>count</th>\n",
       "      <th>mean</th>\n",
       "      <th>std</th>\n",
       "      <th>min</th>\n",
       "      <th>25%</th>\n",
       "      <th>50%</th>\n",
       "      <th>75%</th>\n",
       "      <th>max</th>\n",
       "    </tr>\n",
       "  </thead>\n",
       "  <tbody>\n",
       "    <tr>\n",
       "      <td>S.No</td>\n",
       "      <td>698649.0</td>\n",
       "      <td>499093.869157</td>\n",
       "      <td>288133.057977</td>\n",
       "      <td>1.000000</td>\n",
       "      <td>249410.000000</td>\n",
       "      <td>498978.000000</td>\n",
       "      <td>748685.000000</td>\n",
       "      <td>998070.000000</td>\n",
       "    </tr>\n",
       "    <tr>\n",
       "      <td>ambient</td>\n",
       "      <td>698649.0</td>\n",
       "      <td>-0.003129</td>\n",
       "      <td>0.992710</td>\n",
       "      <td>-7.968341</td>\n",
       "      <td>-0.598182</td>\n",
       "      <td>0.266325</td>\n",
       "      <td>0.686697</td>\n",
       "      <td>2.967117</td>\n",
       "    </tr>\n",
       "    <tr>\n",
       "      <td>coolant</td>\n",
       "      <td>698649.0</td>\n",
       "      <td>0.004779</td>\n",
       "      <td>1.002086</td>\n",
       "      <td>-1.367800</td>\n",
       "      <td>-1.037856</td>\n",
       "      <td>-0.176651</td>\n",
       "      <td>0.648482</td>\n",
       "      <td>2.649032</td>\n",
       "    </tr>\n",
       "    <tr>\n",
       "      <td>u_d</td>\n",
       "      <td>698649.0</td>\n",
       "      <td>0.004275</td>\n",
       "      <td>0.997729</td>\n",
       "      <td>-1.654878</td>\n",
       "      <td>-0.827631</td>\n",
       "      <td>0.267501</td>\n",
       "      <td>0.358460</td>\n",
       "      <td>2.274734</td>\n",
       "    </tr>\n",
       "    <tr>\n",
       "      <td>u_q</td>\n",
       "      <td>698649.0</td>\n",
       "      <td>-0.005819</td>\n",
       "      <td>1.002404</td>\n",
       "      <td>-1.861463</td>\n",
       "      <td>-0.927994</td>\n",
       "      <td>-0.099512</td>\n",
       "      <td>0.852677</td>\n",
       "      <td>1.793498</td>\n",
       "    </tr>\n",
       "    <tr>\n",
       "      <td>motor_speed</td>\n",
       "      <td>698649.0</td>\n",
       "      <td>-0.006024</td>\n",
       "      <td>1.001700</td>\n",
       "      <td>-1.371529</td>\n",
       "      <td>-0.951892</td>\n",
       "      <td>-0.140246</td>\n",
       "      <td>0.855411</td>\n",
       "      <td>2.024151</td>\n",
       "    </tr>\n",
       "    <tr>\n",
       "      <td>torque</td>\n",
       "      <td>698649.0</td>\n",
       "      <td>-0.002985</td>\n",
       "      <td>0.997403</td>\n",
       "      <td>-3.345953</td>\n",
       "      <td>-0.266604</td>\n",
       "      <td>-0.187167</td>\n",
       "      <td>0.547458</td>\n",
       "      <td>3.016895</td>\n",
       "    </tr>\n",
       "    <tr>\n",
       "      <td>i_d</td>\n",
       "      <td>698649.0</td>\n",
       "      <td>0.005794</td>\n",
       "      <td>0.999005</td>\n",
       "      <td>-3.245874</td>\n",
       "      <td>-0.756753</td>\n",
       "      <td>0.213188</td>\n",
       "      <td>1.013975</td>\n",
       "      <td>1.060937</td>\n",
       "    </tr>\n",
       "    <tr>\n",
       "      <td>i_q</td>\n",
       "      <td>698649.0</td>\n",
       "      <td>-0.002809</td>\n",
       "      <td>0.997375</td>\n",
       "      <td>-3.341639</td>\n",
       "      <td>-0.257268</td>\n",
       "      <td>-0.188490</td>\n",
       "      <td>0.499623</td>\n",
       "      <td>2.914185</td>\n",
       "    </tr>\n",
       "    <tr>\n",
       "      <td>pm</td>\n",
       "      <td>698649.0</td>\n",
       "      <td>-0.004385</td>\n",
       "      <td>0.995450</td>\n",
       "      <td>-2.631991</td>\n",
       "      <td>-0.671621</td>\n",
       "      <td>0.094138</td>\n",
       "      <td>0.680431</td>\n",
       "      <td>2.917456</td>\n",
       "    </tr>\n",
       "    <tr>\n",
       "      <td>stator_yoke</td>\n",
       "      <td>698649.0</td>\n",
       "      <td>0.000623</td>\n",
       "      <td>1.001119</td>\n",
       "      <td>-1.834688</td>\n",
       "      <td>-0.747074</td>\n",
       "      <td>-0.057264</td>\n",
       "      <td>0.697432</td>\n",
       "      <td>2.449158</td>\n",
       "    </tr>\n",
       "    <tr>\n",
       "      <td>stator_tooth</td>\n",
       "      <td>698649.0</td>\n",
       "      <td>-0.002212</td>\n",
       "      <td>0.999732</td>\n",
       "      <td>-2.066143</td>\n",
       "      <td>-0.761951</td>\n",
       "      <td>0.005240</td>\n",
       "      <td>0.772349</td>\n",
       "      <td>2.326668</td>\n",
       "    </tr>\n",
       "    <tr>\n",
       "      <td>stator_winding</td>\n",
       "      <td>698649.0</td>\n",
       "      <td>-0.003988</td>\n",
       "      <td>0.998443</td>\n",
       "      <td>-2.019973</td>\n",
       "      <td>-0.725651</td>\n",
       "      <td>0.006893</td>\n",
       "      <td>0.725208</td>\n",
       "      <td>2.651810</td>\n",
       "    </tr>\n",
       "    <tr>\n",
       "      <td>profile_id</td>\n",
       "      <td>698649.0</td>\n",
       "      <td>50.737721</td>\n",
       "      <td>22.072923</td>\n",
       "      <td>4.000000</td>\n",
       "      <td>32.000000</td>\n",
       "      <td>56.000000</td>\n",
       "      <td>68.000000</td>\n",
       "      <td>81.000000</td>\n",
       "    </tr>\n",
       "  </tbody>\n",
       "</table>\n",
       "</div>"
      ],
      "text/plain": [
       "                   count           mean            std       min  \\\n",
       "S.No            698649.0  499093.869157  288133.057977  1.000000   \n",
       "ambient         698649.0      -0.003129       0.992710 -7.968341   \n",
       "coolant         698649.0       0.004779       1.002086 -1.367800   \n",
       "u_d             698649.0       0.004275       0.997729 -1.654878   \n",
       "u_q             698649.0      -0.005819       1.002404 -1.861463   \n",
       "motor_speed     698649.0      -0.006024       1.001700 -1.371529   \n",
       "torque          698649.0      -0.002985       0.997403 -3.345953   \n",
       "i_d             698649.0       0.005794       0.999005 -3.245874   \n",
       "i_q             698649.0      -0.002809       0.997375 -3.341639   \n",
       "pm              698649.0      -0.004385       0.995450 -2.631991   \n",
       "stator_yoke     698649.0       0.000623       1.001119 -1.834688   \n",
       "stator_tooth    698649.0      -0.002212       0.999732 -2.066143   \n",
       "stator_winding  698649.0      -0.003988       0.998443 -2.019973   \n",
       "profile_id      698649.0      50.737721      22.072923  4.000000   \n",
       "\n",
       "                          25%            50%            75%            max  \n",
       "S.No            249410.000000  498978.000000  748685.000000  998070.000000  \n",
       "ambient             -0.598182       0.266325       0.686697       2.967117  \n",
       "coolant             -1.037856      -0.176651       0.648482       2.649032  \n",
       "u_d                 -0.827631       0.267501       0.358460       2.274734  \n",
       "u_q                 -0.927994      -0.099512       0.852677       1.793498  \n",
       "motor_speed         -0.951892      -0.140246       0.855411       2.024151  \n",
       "torque              -0.266604      -0.187167       0.547458       3.016895  \n",
       "i_d                 -0.756753       0.213188       1.013975       1.060937  \n",
       "i_q                 -0.257268      -0.188490       0.499623       2.914185  \n",
       "pm                  -0.671621       0.094138       0.680431       2.917456  \n",
       "stator_yoke         -0.747074      -0.057264       0.697432       2.449158  \n",
       "stator_tooth        -0.761951       0.005240       0.772349       2.326668  \n",
       "stator_winding      -0.725651       0.006893       0.725208       2.651810  \n",
       "profile_id          32.000000      56.000000      68.000000      81.000000  "
      ]
     },
     "execution_count": 7,
     "metadata": {},
     "output_type": "execute_result"
    }
   ],
   "source": [
    "df.describe().T"
   ]
  },
  {
   "cell_type": "code",
   "execution_count": 8,
   "metadata": {},
   "outputs": [
    {
     "data": {
      "text/plain": [
       "False"
      ]
     },
     "execution_count": 8,
     "metadata": {},
     "output_type": "execute_result"
    }
   ],
   "source": [
    "df.isnull().values.any()"
   ]
  },
  {
   "cell_type": "code",
   "execution_count": 9,
   "metadata": {},
   "outputs": [
    {
     "data": {
      "text/plain": [
       "Series([], dtype: int64)"
      ]
     },
     "execution_count": 9,
     "metadata": {},
     "output_type": "execute_result"
    }
   ],
   "source": [
    "# Count the number of NaNs each column has.\n",
    "nans=pd.isnull(df).sum()\n",
    "nans[nans>0]"
   ]
  },
  {
   "cell_type": "code",
   "execution_count": 10,
   "metadata": {},
   "outputs": [
    {
     "data": {
      "text/html": [
       "<div>\n",
       "<style scoped>\n",
       "    .dataframe tbody tr th:only-of-type {\n",
       "        vertical-align: middle;\n",
       "    }\n",
       "\n",
       "    .dataframe tbody tr th {\n",
       "        vertical-align: top;\n",
       "    }\n",
       "\n",
       "    .dataframe thead th {\n",
       "        text-align: right;\n",
       "    }\n",
       "</style>\n",
       "<table border=\"1\" class=\"dataframe\">\n",
       "  <thead>\n",
       "    <tr style=\"text-align: right;\">\n",
       "      <th></th>\n",
       "      <th>S.No</th>\n",
       "      <th>ambient</th>\n",
       "      <th>coolant</th>\n",
       "      <th>u_d</th>\n",
       "      <th>u_q</th>\n",
       "      <th>motor_speed</th>\n",
       "      <th>torque</th>\n",
       "      <th>i_d</th>\n",
       "      <th>i_q</th>\n",
       "      <th>pm</th>\n",
       "      <th>stator_yoke</th>\n",
       "      <th>stator_tooth</th>\n",
       "      <th>stator_winding</th>\n",
       "      <th>profile_id</th>\n",
       "    </tr>\n",
       "  </thead>\n",
       "  <tbody>\n",
       "    <tr>\n",
       "      <td>S.No</td>\n",
       "      <td>1.000000</td>\n",
       "      <td>0.372540</td>\n",
       "      <td>0.473517</td>\n",
       "      <td>0.306600</td>\n",
       "      <td>-0.144830</td>\n",
       "      <td>-0.174654</td>\n",
       "      <td>-0.278470</td>\n",
       "      <td>0.161667</td>\n",
       "      <td>-0.278129</td>\n",
       "      <td>0.136334</td>\n",
       "      <td>0.356708</td>\n",
       "      <td>0.236997</td>\n",
       "      <td>0.137878</td>\n",
       "      <td>0.970839</td>\n",
       "    </tr>\n",
       "    <tr>\n",
       "      <td>ambient</td>\n",
       "      <td>0.372540</td>\n",
       "      <td>1.000000</td>\n",
       "      <td>0.434070</td>\n",
       "      <td>0.195035</td>\n",
       "      <td>0.087877</td>\n",
       "      <td>0.078842</td>\n",
       "      <td>-0.262591</td>\n",
       "      <td>0.005567</td>\n",
       "      <td>-0.260852</td>\n",
       "      <td>0.501772</td>\n",
       "      <td>0.451555</td>\n",
       "      <td>0.396907</td>\n",
       "      <td>0.302270</td>\n",
       "      <td>0.384206</td>\n",
       "    </tr>\n",
       "    <tr>\n",
       "      <td>coolant</td>\n",
       "      <td>0.473517</td>\n",
       "      <td>0.434070</td>\n",
       "      <td>1.000000</td>\n",
       "      <td>0.178710</td>\n",
       "      <td>0.027681</td>\n",
       "      <td>-0.032963</td>\n",
       "      <td>-0.189276</td>\n",
       "      <td>0.107858</td>\n",
       "      <td>-0.185776</td>\n",
       "      <td>0.430885</td>\n",
       "      <td>0.874034</td>\n",
       "      <td>0.689205</td>\n",
       "      <td>0.509759</td>\n",
       "      <td>0.499557</td>\n",
       "    </tr>\n",
       "    <tr>\n",
       "      <td>u_d</td>\n",
       "      <td>0.306600</td>\n",
       "      <td>0.195035</td>\n",
       "      <td>0.178710</td>\n",
       "      <td>1.000000</td>\n",
       "      <td>-0.027819</td>\n",
       "      <td>-0.234200</td>\n",
       "      <td>-0.821098</td>\n",
       "      <td>0.358674</td>\n",
       "      <td>-0.796324</td>\n",
       "      <td>-0.082117</td>\n",
       "      <td>0.041710</td>\n",
       "      <td>-0.065836</td>\n",
       "      <td>-0.150296</td>\n",
       "      <td>0.300428</td>\n",
       "    </tr>\n",
       "    <tr>\n",
       "      <td>u_q</td>\n",
       "      <td>-0.144830</td>\n",
       "      <td>0.087877</td>\n",
       "      <td>0.027681</td>\n",
       "      <td>-0.027819</td>\n",
       "      <td>1.000000</td>\n",
       "      <td>0.717111</td>\n",
       "      <td>-0.037028</td>\n",
       "      <td>-0.182545</td>\n",
       "      <td>-0.026160</td>\n",
       "      <td>0.101475</td>\n",
       "      <td>0.106183</td>\n",
       "      <td>0.149082</td>\n",
       "      <td>0.125601</td>\n",
       "      <td>-0.122164</td>\n",
       "    </tr>\n",
       "    <tr>\n",
       "      <td>motor_speed</td>\n",
       "      <td>-0.174654</td>\n",
       "      <td>0.078842</td>\n",
       "      <td>-0.032963</td>\n",
       "      <td>-0.234200</td>\n",
       "      <td>0.717111</td>\n",
       "      <td>1.000000</td>\n",
       "      <td>0.024583</td>\n",
       "      <td>-0.723145</td>\n",
       "      <td>0.006349</td>\n",
       "      <td>0.332852</td>\n",
       "      <td>0.182961</td>\n",
       "      <td>0.334283</td>\n",
       "      <td>0.393611</td>\n",
       "      <td>-0.166079</td>\n",
       "    </tr>\n",
       "    <tr>\n",
       "      <td>torque</td>\n",
       "      <td>-0.278470</td>\n",
       "      <td>-0.262591</td>\n",
       "      <td>-0.189276</td>\n",
       "      <td>-0.821098</td>\n",
       "      <td>-0.037028</td>\n",
       "      <td>0.024583</td>\n",
       "      <td>1.000000</td>\n",
       "      <td>-0.238838</td>\n",
       "      <td>0.996565</td>\n",
       "      <td>-0.073057</td>\n",
       "      <td>-0.092276</td>\n",
       "      <td>-0.011416</td>\n",
       "      <td>0.080399</td>\n",
       "      <td>-0.257156</td>\n",
       "    </tr>\n",
       "    <tr>\n",
       "      <td>i_d</td>\n",
       "      <td>0.161667</td>\n",
       "      <td>0.005567</td>\n",
       "      <td>0.107858</td>\n",
       "      <td>0.358674</td>\n",
       "      <td>-0.182545</td>\n",
       "      <td>-0.723145</td>\n",
       "      <td>-0.238838</td>\n",
       "      <td>1.000000</td>\n",
       "      <td>-0.204010</td>\n",
       "      <td>-0.299330</td>\n",
       "      <td>-0.180409</td>\n",
       "      <td>-0.388120</td>\n",
       "      <td>-0.540351</td>\n",
       "      <td>0.142502</td>\n",
       "    </tr>\n",
       "    <tr>\n",
       "      <td>i_q</td>\n",
       "      <td>-0.278129</td>\n",
       "      <td>-0.260852</td>\n",
       "      <td>-0.185776</td>\n",
       "      <td>-0.796324</td>\n",
       "      <td>-0.026160</td>\n",
       "      <td>0.006349</td>\n",
       "      <td>0.996565</td>\n",
       "      <td>-0.204010</td>\n",
       "      <td>1.000000</td>\n",
       "      <td>-0.086657</td>\n",
       "      <td>-0.098888</td>\n",
       "      <td>-0.025615</td>\n",
       "      <td>0.060306</td>\n",
       "      <td>-0.255902</td>\n",
       "    </tr>\n",
       "    <tr>\n",
       "      <td>pm</td>\n",
       "      <td>0.136334</td>\n",
       "      <td>0.501772</td>\n",
       "      <td>0.430885</td>\n",
       "      <td>-0.082117</td>\n",
       "      <td>0.101475</td>\n",
       "      <td>0.332852</td>\n",
       "      <td>-0.073057</td>\n",
       "      <td>-0.299330</td>\n",
       "      <td>-0.086657</td>\n",
       "      <td>1.000000</td>\n",
       "      <td>0.695267</td>\n",
       "      <td>0.768570</td>\n",
       "      <td>0.729916</td>\n",
       "      <td>0.157029</td>\n",
       "    </tr>\n",
       "    <tr>\n",
       "      <td>stator_yoke</td>\n",
       "      <td>0.356708</td>\n",
       "      <td>0.451555</td>\n",
       "      <td>0.874034</td>\n",
       "      <td>0.041710</td>\n",
       "      <td>0.106183</td>\n",
       "      <td>0.182961</td>\n",
       "      <td>-0.092276</td>\n",
       "      <td>-0.180409</td>\n",
       "      <td>-0.098888</td>\n",
       "      <td>0.695267</td>\n",
       "      <td>1.000000</td>\n",
       "      <td>0.949960</td>\n",
       "      <td>0.845375</td>\n",
       "      <td>0.397905</td>\n",
       "    </tr>\n",
       "    <tr>\n",
       "      <td>stator_tooth</td>\n",
       "      <td>0.236997</td>\n",
       "      <td>0.396907</td>\n",
       "      <td>0.689205</td>\n",
       "      <td>-0.065836</td>\n",
       "      <td>0.149082</td>\n",
       "      <td>0.334283</td>\n",
       "      <td>-0.011416</td>\n",
       "      <td>-0.388120</td>\n",
       "      <td>-0.025615</td>\n",
       "      <td>0.768570</td>\n",
       "      <td>0.949960</td>\n",
       "      <td>1.000000</td>\n",
       "      <td>0.965700</td>\n",
       "      <td>0.280930</td>\n",
       "    </tr>\n",
       "    <tr>\n",
       "      <td>stator_winding</td>\n",
       "      <td>0.137878</td>\n",
       "      <td>0.302270</td>\n",
       "      <td>0.509759</td>\n",
       "      <td>-0.150296</td>\n",
       "      <td>0.125601</td>\n",
       "      <td>0.393611</td>\n",
       "      <td>0.080399</td>\n",
       "      <td>-0.540351</td>\n",
       "      <td>0.060306</td>\n",
       "      <td>0.729916</td>\n",
       "      <td>0.845375</td>\n",
       "      <td>0.965700</td>\n",
       "      <td>1.000000</td>\n",
       "      <td>0.181824</td>\n",
       "    </tr>\n",
       "    <tr>\n",
       "      <td>profile_id</td>\n",
       "      <td>0.970839</td>\n",
       "      <td>0.384206</td>\n",
       "      <td>0.499557</td>\n",
       "      <td>0.300428</td>\n",
       "      <td>-0.122164</td>\n",
       "      <td>-0.166079</td>\n",
       "      <td>-0.257156</td>\n",
       "      <td>0.142502</td>\n",
       "      <td>-0.255902</td>\n",
       "      <td>0.157029</td>\n",
       "      <td>0.397905</td>\n",
       "      <td>0.280930</td>\n",
       "      <td>0.181824</td>\n",
       "      <td>1.000000</td>\n",
       "    </tr>\n",
       "  </tbody>\n",
       "</table>\n",
       "</div>"
      ],
      "text/plain": [
       "                    S.No   ambient   coolant       u_d       u_q  motor_speed  \\\n",
       "S.No            1.000000  0.372540  0.473517  0.306600 -0.144830    -0.174654   \n",
       "ambient         0.372540  1.000000  0.434070  0.195035  0.087877     0.078842   \n",
       "coolant         0.473517  0.434070  1.000000  0.178710  0.027681    -0.032963   \n",
       "u_d             0.306600  0.195035  0.178710  1.000000 -0.027819    -0.234200   \n",
       "u_q            -0.144830  0.087877  0.027681 -0.027819  1.000000     0.717111   \n",
       "motor_speed    -0.174654  0.078842 -0.032963 -0.234200  0.717111     1.000000   \n",
       "torque         -0.278470 -0.262591 -0.189276 -0.821098 -0.037028     0.024583   \n",
       "i_d             0.161667  0.005567  0.107858  0.358674 -0.182545    -0.723145   \n",
       "i_q            -0.278129 -0.260852 -0.185776 -0.796324 -0.026160     0.006349   \n",
       "pm              0.136334  0.501772  0.430885 -0.082117  0.101475     0.332852   \n",
       "stator_yoke     0.356708  0.451555  0.874034  0.041710  0.106183     0.182961   \n",
       "stator_tooth    0.236997  0.396907  0.689205 -0.065836  0.149082     0.334283   \n",
       "stator_winding  0.137878  0.302270  0.509759 -0.150296  0.125601     0.393611   \n",
       "profile_id      0.970839  0.384206  0.499557  0.300428 -0.122164    -0.166079   \n",
       "\n",
       "                  torque       i_d       i_q        pm  stator_yoke  \\\n",
       "S.No           -0.278470  0.161667 -0.278129  0.136334     0.356708   \n",
       "ambient        -0.262591  0.005567 -0.260852  0.501772     0.451555   \n",
       "coolant        -0.189276  0.107858 -0.185776  0.430885     0.874034   \n",
       "u_d            -0.821098  0.358674 -0.796324 -0.082117     0.041710   \n",
       "u_q            -0.037028 -0.182545 -0.026160  0.101475     0.106183   \n",
       "motor_speed     0.024583 -0.723145  0.006349  0.332852     0.182961   \n",
       "torque          1.000000 -0.238838  0.996565 -0.073057    -0.092276   \n",
       "i_d            -0.238838  1.000000 -0.204010 -0.299330    -0.180409   \n",
       "i_q             0.996565 -0.204010  1.000000 -0.086657    -0.098888   \n",
       "pm             -0.073057 -0.299330 -0.086657  1.000000     0.695267   \n",
       "stator_yoke    -0.092276 -0.180409 -0.098888  0.695267     1.000000   \n",
       "stator_tooth   -0.011416 -0.388120 -0.025615  0.768570     0.949960   \n",
       "stator_winding  0.080399 -0.540351  0.060306  0.729916     0.845375   \n",
       "profile_id     -0.257156  0.142502 -0.255902  0.157029     0.397905   \n",
       "\n",
       "                stator_tooth  stator_winding  profile_id  \n",
       "S.No                0.236997        0.137878    0.970839  \n",
       "ambient             0.396907        0.302270    0.384206  \n",
       "coolant             0.689205        0.509759    0.499557  \n",
       "u_d                -0.065836       -0.150296    0.300428  \n",
       "u_q                 0.149082        0.125601   -0.122164  \n",
       "motor_speed         0.334283        0.393611   -0.166079  \n",
       "torque             -0.011416        0.080399   -0.257156  \n",
       "i_d                -0.388120       -0.540351    0.142502  \n",
       "i_q                -0.025615        0.060306   -0.255902  \n",
       "pm                  0.768570        0.729916    0.157029  \n",
       "stator_yoke         0.949960        0.845375    0.397905  \n",
       "stator_tooth        1.000000        0.965700    0.280930  \n",
       "stator_winding      0.965700        1.000000    0.181824  \n",
       "profile_id          0.280930        0.181824    1.000000  "
      ]
     },
     "execution_count": 10,
     "metadata": {},
     "output_type": "execute_result"
    }
   ],
   "source": [
    "\n",
    "\n",
    "df.corr()\n",
    "\n"
   ]
  },
  {
   "cell_type": "code",
   "execution_count": 11,
   "metadata": {},
   "outputs": [
    {
     "data": {
      "text/plain": [
       "<seaborn.axisgrid.JointGrid at 0x1f352f74208>"
      ]
     },
     "execution_count": 11,
     "metadata": {},
     "output_type": "execute_result"
    },
    {
     "data": {
      "image/png": "[encoded data removed]",
      "text/plain": [
       "<Figure size 432x432 with 3 Axes>"
      ]
     },
     "metadata": {
      "needs_background": "light"
     },
     "output_type": "display_data"
    }
   ],
   "source": [
    "import seaborn as sns\n",
    "sns.jointplot(x='i_d', y='motor_speed', data=df, kind='reg')"
   ]
  },
  {
   "cell_type": "code",
   "execution_count": 13,
   "metadata": {
    "scrolled": true
   },
   "outputs": [
    {
     "data": {
      "image/png": "[encoded data removed]",
      "text/plain": [
       "<Figure size 864x864 with 2 Axes>"
      ]
     },
     "metadata": {
      "needs_background": "light"
     },
     "output_type": "display_data"
    }
   ],
   "source": [
    "#correlation map\n",
    "f,ax=plt.subplots(figsize=(12,12))\n",
    "corr=df.corr()\n",
    "\n",
    "sns.heatmap(corr, annot=True, linewidths=.5, fmt='.2f', \n",
    "            mask= np.zeros_like(corr,dtype=np.bool), \n",
    "            cmap=sns.diverging_palette(100,200,as_cmap=True), \n",
    "            square=True, ax=ax)\n",
    "\n",
    "plt.show()"
   ]
  },
  {
   "cell_type": "code",
   "execution_count": null,
   "metadata": {},
   "outputs": [],
   "source": []
  },
  {
   "cell_type": "code",
   "execution_count": 14,
   "metadata": {
    "scrolled": true
   },
   "outputs": [
    {
     "name": "stderr",
     "output_type": "stream",
     "text": [
      "C:\\Users\\dell\\Anaconda3\\lib\\site-packages\\numpy\\core\\fromnumeric.py:2389: FutureWarning: Method .ptp is deprecated and will be removed in a future version. Use numpy.ptp instead.\n",
      "  return ptp(axis=axis, out=out, **kwargs)\n"
     ]
    },
    {
     "data": {
      "text/html": [
       "<table class=\"simpletable\">\n",
       "<caption>OLS Regression Results</caption>\n",
       "<tr>\n",
       "  <th>Dep. Variable:</th>       <td>motor_speed</td>   <th>  R-squared:         </th>  <td>   0.523</td>  \n",
       "</tr>\n",
       "<tr>\n",
       "  <th>Model:</th>                   <td>OLS</td>       <th>  Adj. R-squared:    </th>  <td>   0.523</td>  \n",
       "</tr>\n",
       "<tr>\n",
       "  <th>Method:</th>             <td>Least Squares</td>  <th>  F-statistic:       </th>  <td>7.658e+05</td> \n",
       "</tr>\n",
       "<tr>\n",
       "  <th>Date:</th>             <td>Sat, 08 Feb 2020</td> <th>  Prob (F-statistic):</th>   <td>  0.00</td>   \n",
       "</tr>\n",
       "<tr>\n",
       "  <th>Time:</th>                 <td>17:42:19</td>     <th>  Log-Likelihood:    </th> <td>-7.3399e+05</td>\n",
       "</tr>\n",
       "<tr>\n",
       "  <th>No. Observations:</th>      <td>698649</td>      <th>  AIC:               </th>  <td>1.468e+06</td> \n",
       "</tr>\n",
       "<tr>\n",
       "  <th>Df Residuals:</th>          <td>698647</td>      <th>  BIC:               </th>  <td>1.468e+06</td> \n",
       "</tr>\n",
       "<tr>\n",
       "  <th>Df Model:</th>              <td>     1</td>      <th>                     </th>      <td> </td>     \n",
       "</tr>\n",
       "<tr>\n",
       "  <th>Covariance Type:</th>      <td>nonrobust</td>    <th>                     </th>      <td> </td>     \n",
       "</tr>\n",
       "</table>\n",
       "<table class=\"simpletable\">\n",
       "<tr>\n",
       "    <td></td>       <th>coef</th>     <th>std err</th>      <th>t</th>      <th>P>|t|</th>  <th>[0.025</th>    <th>0.975]</th>  \n",
       "</tr>\n",
       "<tr>\n",
       "  <th>const</th> <td>   -0.0018</td> <td>    0.001</td> <td>   -2.202</td> <td> 0.028</td> <td>   -0.003</td> <td>   -0.000</td>\n",
       "</tr>\n",
       "<tr>\n",
       "  <th>i_d</th>   <td>   -0.7251</td> <td>    0.001</td> <td> -875.118</td> <td> 0.000</td> <td>   -0.727</td> <td>   -0.723</td>\n",
       "</tr>\n",
       "</table>\n",
       "<table class=\"simpletable\">\n",
       "<tr>\n",
       "  <th>Omnibus:</th>       <td>5311.730</td> <th>  Durbin-Watson:     </th> <td>   0.006</td>\n",
       "</tr>\n",
       "<tr>\n",
       "  <th>Prob(Omnibus):</th>  <td> 0.000</td>  <th>  Jarque-Bera (JB):  </th> <td>4177.606</td>\n",
       "</tr>\n",
       "<tr>\n",
       "  <th>Skew:</th>           <td>-0.110</td>  <th>  Prob(JB):          </th> <td>    0.00</td>\n",
       "</tr>\n",
       "<tr>\n",
       "  <th>Kurtosis:</th>       <td> 2.692</td>  <th>  Cond. No.          </th> <td>    1.01</td>\n",
       "</tr>\n",
       "</table><br/><br/>Warnings:<br/>[1] Standard Errors assume that the covariance matrix of the errors is correctly specified."
      ],
      "text/plain": [
       "<class 'statsmodels.iolib.summary.Summary'>\n",
       "\"\"\"\n",
       "                            OLS Regression Results                            \n",
       "==============================================================================\n",
       "Dep. Variable:            motor_speed   R-squared:                       0.523\n",
       "Model:                            OLS   Adj. R-squared:                  0.523\n",
       "Method:                 Least Squares   F-statistic:                 7.658e+05\n",
       "Date:                Sat, 08 Feb 2020   Prob (F-statistic):               0.00\n",
       "Time:                        17:42:19   Log-Likelihood:            -7.3399e+05\n",
       "No. Observations:              698649   AIC:                         1.468e+06\n",
       "Df Residuals:                  698647   BIC:                         1.468e+06\n",
       "Df Model:                           1                                         \n",
       "Covariance Type:            nonrobust                                         \n",
       "==============================================================================\n",
       "                 coef    std err          t      P>|t|      [0.025      0.975]\n",
       "------------------------------------------------------------------------------\n",
       "const         -0.0018      0.001     -2.202      0.028      -0.003      -0.000\n",
       "i_d           -0.7251      0.001   -875.118      0.000      -0.727      -0.723\n",
       "==============================================================================\n",
       "Omnibus:                     5311.730   Durbin-Watson:                   0.006\n",
       "Prob(Omnibus):                  0.000   Jarque-Bera (JB):             4177.606\n",
       "Skew:                          -0.110   Prob(JB):                         0.00\n",
       "Kurtosis:                       2.692   Cond. No.                         1.01\n",
       "==============================================================================\n",
       "\n",
       "Warnings:\n",
       "[1] Standard Errors assume that the covariance matrix of the errors is correctly specified.\n",
       "\"\"\""
      ]
     },
     "execution_count": 14,
     "metadata": {},
     "output_type": "execute_result"
    }
   ],
   "source": [
    "#BASIC LINEAR REGRESSION\n",
    "\n",
    "import statsmodels.api as sm\n",
    "#Defining dependet and independent variable\n",
    "X = df['i_d']\n",
    "X=sm.add_constant(X)\n",
    "\n",
    "y = df['motor_speed']\n",
    "\n",
    "lm=sm.OLS(y,X)\n",
    "model=lm.fit()\n",
    "\n",
    "model.summary()"
   ]
  },
  {
   "cell_type": "code",
   "execution_count": 15,
   "metadata": {},
   "outputs": [
    {
     "data": {
      "text/plain": [
       "const   -0.001823\n",
       "i_d     -0.725096\n",
       "dtype: float64"
      ]
     },
     "execution_count": 15,
     "metadata": {},
     "output_type": "execute_result"
    }
   ],
   "source": [
    "model.params"
   ]
  },
  {
   "cell_type": "code",
   "execution_count": 16,
   "metadata": {},
   "outputs": [
    {
     "name": "stdout",
     "output_type": "stream",
     "text": [
      "f_pvalue: 0.0000\n"
     ]
    }
   ],
   "source": [
    "print(\"f_pvalue:\", \"%.4f\" % model.f_pvalue)"
   ]
  },
  {
   "cell_type": "code",
   "execution_count": 17,
   "metadata": {},
   "outputs": [
    {
     "data": {
      "text/plain": [
       "366593.13575856015"
      ]
     },
     "execution_count": 17,
     "metadata": {},
     "output_type": "execute_result"
    }
   ],
   "source": [
    "model.mse_model"
   ]
  },
  {
   "cell_type": "code",
   "execution_count": 18,
   "metadata": {},
   "outputs": [
    {
     "data": {
      "text/plain": [
       "0.5229380495481444"
      ]
     },
     "execution_count": 18,
     "metadata": {},
     "output_type": "execute_result"
    }
   ],
   "source": [
    "model.rsquared"
   ]
  },
  {
   "cell_type": "code",
   "execution_count": 19,
   "metadata": {},
   "outputs": [
    {
     "data": {
      "text/plain": [
       "0.5229373667112462"
      ]
     },
     "execution_count": 19,
     "metadata": {},
     "output_type": "execute_result"
    }
   ],
   "source": [
    "model.rsquared_adj"
   ]
  },
  {
   "cell_type": "code",
   "execution_count": 20,
   "metadata": {},
   "outputs": [
    {
     "data": {
      "text/plain": [
       "0   -0.748361\n",
       "1   -0.748271\n",
       "2   -0.750734\n",
       "3   -0.749982\n",
       "4   -0.749419\n",
       "dtype: float64"
      ]
     },
     "execution_count": 20,
     "metadata": {},
     "output_type": "execute_result"
    }
   ],
   "source": [
    "model.fittedvalues[0:5] #Predicted values"
   ]
  },
  {
   "cell_type": "code",
   "execution_count": 21,
   "metadata": {},
   "outputs": [
    {
     "data": {
      "text/plain": [
       "0   -1.222428\n",
       "1   -1.222428\n",
       "2   -1.222430\n",
       "3   -1.222429\n",
       "4   -1.222429\n",
       "Name: motor_speed, dtype: float64"
      ]
     },
     "execution_count": 21,
     "metadata": {},
     "output_type": "execute_result"
    }
   ],
   "source": [
    "y[0:5] #Real values"
   ]
  },
  {
   "cell_type": "code",
   "execution_count": 22,
   "metadata": {},
   "outputs": [
    {
     "name": "stdout",
     "output_type": "stream",
     "text": [
      "Motor speed = -0.002 + i_d*-0.725\n"
     ]
    }
   ],
   "source": [
    "#Model equation\n",
    "print(\"Motor speed = \" + \n",
    "      str(\"%.3f\" % model.params[0]) + ' + i_d' + \"*\" + \n",
    "      str(\"%.3f\" % model.params[1]))"
   ]
  },
  {
   "cell_type": "code",
   "execution_count": 23,
   "metadata": {},
   "outputs": [
    {
     "data": {
      "image/png": "[encoded data removed]",
      "text/plain": [
       "<Figure size 432x288 with 1 Axes>"
      ]
     },
     "metadata": {
      "needs_background": "light"
     },
     "output_type": "display_data"
    }
   ],
   "source": [
    "#Model Visualization \n",
    "g=sns.regplot(df['i_d'] , df['motor_speed'], \n",
    "              ci=None, scatter_kws={'color': 'r', 's':9})\n",
    "g.set_title('Model equation: motor_speed = -0.002 + i_d * -0.725')\n",
    "g.set_ylabel('Motor_speed')\n",
    "g.set_xlabel('i_d');"
   ]
  },
  {
   "cell_type": "code",
   "execution_count": 24,
   "metadata": {},
   "outputs": [
    {
     "data": {
      "text/plain": [
       "0.6918706566599208"
      ]
     },
     "execution_count": 24,
     "metadata": {},
     "output_type": "execute_result"
    }
   ],
   "source": [
    "from sklearn.metrics import r2_score,mean_squared_error\n",
    "\n",
    "mse=mean_squared_error(y, model.fittedvalues)\n",
    "rmse=np.sqrt(mse)\n",
    "rmse"
   ]
  },
  {
   "cell_type": "code",
   "execution_count": 25,
   "metadata": {},
   "outputs": [
    {
     "data": {
      "text/html": [
       "<div>\n",
       "<style scoped>\n",
       "    .dataframe tbody tr th:only-of-type {\n",
       "        vertical-align: middle;\n",
       "    }\n",
       "\n",
       "    .dataframe tbody tr th {\n",
       "        vertical-align: top;\n",
       "    }\n",
       "\n",
       "    .dataframe thead th {\n",
       "        text-align: right;\n",
       "    }\n",
       "</style>\n",
       "<table border=\"1\" class=\"dataframe\">\n",
       "  <thead>\n",
       "    <tr style=\"text-align: right;\">\n",
       "      <th></th>\n",
       "      <th>Real_values</th>\n",
       "      <th>Predicted_values</th>\n",
       "      <th>error</th>\n",
       "    </tr>\n",
       "  </thead>\n",
       "  <tbody>\n",
       "    <tr>\n",
       "      <td>0</td>\n",
       "      <td>-1.222428</td>\n",
       "      <td>-0.748361</td>\n",
       "      <td>-0.474067</td>\n",
       "    </tr>\n",
       "    <tr>\n",
       "      <td>1</td>\n",
       "      <td>-1.222428</td>\n",
       "      <td>-0.748271</td>\n",
       "      <td>-0.474157</td>\n",
       "    </tr>\n",
       "    <tr>\n",
       "      <td>2</td>\n",
       "      <td>-1.222430</td>\n",
       "      <td>-0.750734</td>\n",
       "      <td>-0.471696</td>\n",
       "    </tr>\n",
       "    <tr>\n",
       "      <td>3</td>\n",
       "      <td>-1.222429</td>\n",
       "      <td>-0.749982</td>\n",
       "      <td>-0.472447</td>\n",
       "    </tr>\n",
       "    <tr>\n",
       "      <td>4</td>\n",
       "      <td>-1.222429</td>\n",
       "      <td>-0.749419</td>\n",
       "      <td>-0.473010</td>\n",
       "    </tr>\n",
       "  </tbody>\n",
       "</table>\n",
       "</div>"
      ],
      "text/plain": [
       "   Real_values  Predicted_values     error\n",
       "0    -1.222428         -0.748361 -0.474067\n",
       "1    -1.222428         -0.748271 -0.474157\n",
       "2    -1.222430         -0.750734 -0.471696\n",
       "3    -1.222429         -0.749982 -0.472447\n",
       "4    -1.222429         -0.749419 -0.473010"
      ]
     },
     "execution_count": 25,
     "metadata": {},
     "output_type": "execute_result"
    }
   ],
   "source": [
    "k_t=pd.DataFrame({'Real_values':y[0:50], \n",
    "                  'Predicted_values' :model.fittedvalues[0:50]})\n",
    "k_t['error']=k_t['Real_values']-k_t['Predicted_values']\n",
    "k_t.head()"
   ]
  },
  {
   "cell_type": "code",
   "execution_count": 26,
   "metadata": {},
   "outputs": [
    {
     "data": {
      "text/plain": [
       "0   -0.474067\n",
       "1   -0.474157\n",
       "2   -0.471696\n",
       "3   -0.472447\n",
       "4   -0.473010\n",
       "5   -0.473683\n",
       "6   -0.474024\n",
       "7   -0.474257\n",
       "8   -0.474286\n",
       "9   -0.474331\n",
       "dtype: float64"
      ]
     },
     "execution_count": 26,
     "metadata": {},
     "output_type": "execute_result"
    }
   ],
   "source": [
    "model.resid[0:10] #It is easy way to learn residuals."
   ]
  },
  {
   "cell_type": "code",
   "execution_count": 27,
   "metadata": {},
   "outputs": [
    {
     "data": {
      "image/png": "[encoded data removed]",
      "text/plain": [
       "<Figure size 432x288 with 1 Axes>"
      ]
     },
     "metadata": {
      "needs_background": "light"
     },
     "output_type": "display_data"
    }
   ],
   "source": [
    "plt.plot(model.resid);"
   ]
  },
  {
   "cell_type": "code",
   "execution_count": 28,
   "metadata": {},
   "outputs": [],
   "source": [
    "#MULTIPLE LINEAR REGRESSION\n",
    "\n",
    "X=df.drop(\"motor_speed\", axis=1)\n",
    "y=df[\"motor_speed\"]"
   ]
  },
  {
   "cell_type": "code",
   "execution_count": 29,
   "metadata": {},
   "outputs": [],
   "source": [
    "from sklearn.model_selection import train_test_split,cross_val_score,cross_val_predict\n",
    "\n",
    "X_train,X_test,y_train,y_test=train_test_split(X,y,test_size=0.2, random_state=42)\n",
    "\n",
    "training=df.copy()"
   ]
  },
  {
   "cell_type": "code",
   "execution_count": 30,
   "metadata": {},
   "outputs": [
    {
     "data": {
      "text/html": [
       "<table class=\"simpletable\">\n",
       "<caption>OLS Regression Results</caption>\n",
       "<tr>\n",
       "  <th>Dep. Variable:</th>       <td>motor_speed</td>   <th>  R-squared (uncentered):</th>      <td>   0.929</td> \n",
       "</tr>\n",
       "<tr>\n",
       "  <th>Model:</th>                   <td>OLS</td>       <th>  Adj. R-squared (uncentered):</th> <td>   0.929</td> \n",
       "</tr>\n",
       "<tr>\n",
       "  <th>Method:</th>             <td>Least Squares</td>  <th>  F-statistic:       </th>          <td>5.623e+05</td>\n",
       "</tr>\n",
       "<tr>\n",
       "  <th>Date:</th>             <td>Sat, 08 Feb 2020</td> <th>  Prob (F-statistic):</th>           <td>  0.00</td>  \n",
       "</tr>\n",
       "<tr>\n",
       "  <th>Time:</th>                 <td>17:50:35</td>     <th>  Log-Likelihood:    </th>          <td> -55174.</td> \n",
       "</tr>\n",
       "<tr>\n",
       "  <th>No. Observations:</th>      <td>558919</td>      <th>  AIC:               </th>          <td>1.104e+05</td>\n",
       "</tr>\n",
       "<tr>\n",
       "  <th>Df Residuals:</th>          <td>558906</td>      <th>  BIC:               </th>          <td>1.105e+05</td>\n",
       "</tr>\n",
       "<tr>\n",
       "  <th>Df Model:</th>              <td>    13</td>      <th>                     </th>              <td> </td>    \n",
       "</tr>\n",
       "<tr>\n",
       "  <th>Covariance Type:</th>      <td>nonrobust</td>    <th>                     </th>              <td> </td>    \n",
       "</tr>\n",
       "</table>\n",
       "<table class=\"simpletable\">\n",
       "<tr>\n",
       "         <td></td>           <th>coef</th>     <th>std err</th>      <th>t</th>      <th>P>|t|</th>  <th>[0.025</th>    <th>0.975]</th>  \n",
       "</tr>\n",
       "<tr>\n",
       "  <th>S.No</th>           <td> 3.454e-07</td> <td> 4.38e-09</td> <td>   78.792</td> <td> 0.000</td> <td> 3.37e-07</td> <td> 3.54e-07</td>\n",
       "</tr>\n",
       "<tr>\n",
       "  <th>ambient</th>        <td>   -0.0552</td> <td>    0.000</td> <td> -120.055</td> <td> 0.000</td> <td>   -0.056</td> <td>   -0.054</td>\n",
       "</tr>\n",
       "<tr>\n",
       "  <th>coolant</th>        <td>    0.3882</td> <td>    0.002</td> <td>  173.291</td> <td> 0.000</td> <td>    0.384</td> <td>    0.393</td>\n",
       "</tr>\n",
       "<tr>\n",
       "  <th>u_d</th>            <td>   -0.1680</td> <td>    0.001</td> <td> -216.730</td> <td> 0.000</td> <td>   -0.169</td> <td>   -0.166</td>\n",
       "</tr>\n",
       "<tr>\n",
       "  <th>u_q</th>            <td>    0.5439</td> <td>    0.000</td> <td> 1235.228</td> <td> 0.000</td> <td>    0.543</td> <td>    0.545</td>\n",
       "</tr>\n",
       "<tr>\n",
       "  <th>torque</th>         <td>   -0.3727</td> <td>    0.006</td> <td>  -64.224</td> <td> 0.000</td> <td>   -0.384</td> <td>   -0.361</td>\n",
       "</tr>\n",
       "<tr>\n",
       "  <th>i_d</th>            <td>   -0.6596</td> <td>    0.001</td> <td>-1065.904</td> <td> 0.000</td> <td>   -0.661</td> <td>   -0.658</td>\n",
       "</tr>\n",
       "<tr>\n",
       "  <th>i_q</th>            <td>    0.1700</td> <td>    0.005</td> <td>   31.117</td> <td> 0.000</td> <td>    0.159</td> <td>    0.181</td>\n",
       "</tr>\n",
       "<tr>\n",
       "  <th>pm</th>             <td>    0.1076</td> <td>    0.001</td> <td>  145.573</td> <td> 0.000</td> <td>    0.106</td> <td>    0.109</td>\n",
       "</tr>\n",
       "<tr>\n",
       "  <th>stator_yoke</th>    <td>   -1.5974</td> <td>    0.007</td> <td> -233.239</td> <td> 0.000</td> <td>   -1.611</td> <td>   -1.584</td>\n",
       "</tr>\n",
       "<tr>\n",
       "  <th>stator_tooth</th>   <td>    2.3025</td> <td>    0.009</td> <td>  254.276</td> <td> 0.000</td> <td>    2.285</td> <td>    2.320</td>\n",
       "</tr>\n",
       "<tr>\n",
       "  <th>stator_winding</th> <td>   -1.1684</td> <td>    0.004</td> <td> -260.082</td> <td> 0.000</td> <td>   -1.177</td> <td>   -1.160</td>\n",
       "</tr>\n",
       "<tr>\n",
       "  <th>profile_id</th>     <td>   -0.0035</td> <td> 4.49e-05</td> <td>  -78.065</td> <td> 0.000</td> <td>   -0.004</td> <td>   -0.003</td>\n",
       "</tr>\n",
       "</table>\n",
       "<table class=\"simpletable\">\n",
       "<tr>\n",
       "  <th>Omnibus:</th>       <td>32132.250</td> <th>  Durbin-Watson:     </th>  <td>   2.001</td> \n",
       "</tr>\n",
       "<tr>\n",
       "  <th>Prob(Omnibus):</th>  <td> 0.000</td>   <th>  Jarque-Bera (JB):  </th> <td>131242.646</td>\n",
       "</tr>\n",
       "<tr>\n",
       "  <th>Skew:</th>           <td>-0.113</td>   <th>  Prob(JB):          </th>  <td>    0.00</td> \n",
       "</tr>\n",
       "<tr>\n",
       "  <th>Kurtosis:</th>       <td> 5.363</td>   <th>  Cond. No.          </th>  <td>1.90e+07</td> \n",
       "</tr>\n",
       "</table><br/><br/>Warnings:<br/>[1] Standard Errors assume that the covariance matrix of the errors is correctly specified.<br/>[2] The condition number is large, 1.9e+07. This might indicate that there are<br/>strong multicollinearity or other numerical problems."
      ],
      "text/plain": [
       "<class 'statsmodels.iolib.summary.Summary'>\n",
       "\"\"\"\n",
       "                                 OLS Regression Results                                \n",
       "=======================================================================================\n",
       "Dep. Variable:            motor_speed   R-squared (uncentered):                   0.929\n",
       "Model:                            OLS   Adj. R-squared (uncentered):              0.929\n",
       "Method:                 Least Squares   F-statistic:                          5.623e+05\n",
       "Date:                Sat, 08 Feb 2020   Prob (F-statistic):                        0.00\n",
       "Time:                        17:50:35   Log-Likelihood:                         -55174.\n",
       "No. Observations:              558919   AIC:                                  1.104e+05\n",
       "Df Residuals:                  558906   BIC:                                  1.105e+05\n",
       "Df Model:                          13                                                  \n",
       "Covariance Type:            nonrobust                                                  \n",
       "==================================================================================\n",
       "                     coef    std err          t      P>|t|      [0.025      0.975]\n",
       "----------------------------------------------------------------------------------\n",
       "S.No            3.454e-07   4.38e-09     78.792      0.000    3.37e-07    3.54e-07\n",
       "ambient           -0.0552      0.000   -120.055      0.000      -0.056      -0.054\n",
       "coolant            0.3882      0.002    173.291      0.000       0.384       0.393\n",
       "u_d               -0.1680      0.001   -216.730      0.000      -0.169      -0.166\n",
       "u_q                0.5439      0.000   1235.228      0.000       0.543       0.545\n",
       "torque            -0.3727      0.006    -64.224      0.000      -0.384      -0.361\n",
       "i_d               -0.6596      0.001  -1065.904      0.000      -0.661      -0.658\n",
       "i_q                0.1700      0.005     31.117      0.000       0.159       0.181\n",
       "pm                 0.1076      0.001    145.573      0.000       0.106       0.109\n",
       "stator_yoke       -1.5974      0.007   -233.239      0.000      -1.611      -1.584\n",
       "stator_tooth       2.3025      0.009    254.276      0.000       2.285       2.320\n",
       "stator_winding    -1.1684      0.004   -260.082      0.000      -1.177      -1.160\n",
       "profile_id        -0.0035   4.49e-05    -78.065      0.000      -0.004      -0.003\n",
       "==============================================================================\n",
       "Omnibus:                    32132.250   Durbin-Watson:                   2.001\n",
       "Prob(Omnibus):                  0.000   Jarque-Bera (JB):           131242.646\n",
       "Skew:                          -0.113   Prob(JB):                         0.00\n",
       "Kurtosis:                       5.363   Cond. No.                     1.90e+07\n",
       "==============================================================================\n",
       "\n",
       "Warnings:\n",
       "[1] Standard Errors assume that the covariance matrix of the errors is correctly specified.\n",
       "[2] The condition number is large, 1.9e+07. This might indicate that there are\n",
       "strong multicollinearity or other numerical problems.\n",
       "\"\"\""
      ]
     },
     "execution_count": 30,
     "metadata": {},
     "output_type": "execute_result"
    }
   ],
   "source": [
    "lm=sm.OLS(y_train, X_train)\n",
    "\n",
    "model=lm.fit()\n",
    "model.summary() #All coefficients are significant for the model by looking at the p-value. ( P>|t| )"
   ]
  },
  {
   "cell_type": "code",
   "execution_count": 31,
   "metadata": {},
   "outputs": [
    {
     "data": {
      "text/plain": [
       "0.267075571612811"
      ]
     },
     "execution_count": 31,
     "metadata": {},
     "output_type": "execute_result"
    }
   ],
   "source": [
    "#Root Mean Squared Error for Train\n",
    "rmse1=np.sqrt(mean_squared_error(y_train,model.predict(X_train)))\n",
    "rmse1"
   ]
  },
  {
   "cell_type": "code",
   "execution_count": 32,
   "metadata": {},
   "outputs": [
    {
     "data": {
      "text/plain": [
       "0.2668587880243436"
      ]
     },
     "execution_count": 32,
     "metadata": {},
     "output_type": "execute_result"
    }
   ],
   "source": [
    "#Root Mean Squared Error for Test\n",
    "rmse2=np.sqrt(mean_squared_error(y_test,model.predict(X_test)))\n",
    "rmse2"
   ]
  },
  {
   "cell_type": "code",
   "execution_count": 33,
   "metadata": {},
   "outputs": [
    {
     "name": "stdout",
     "output_type": "stream",
     "text": [
      "Verified R2 value for Training model: 0.9295661478042521\n",
      "Verified R2 value for Testing Model: 0.9293936836269472\n"
     ]
    }
   ],
   "source": [
    "#Model Tuning for Multiple Linear Regression\n",
    "model = LinearRegression().fit(X_train,y_train)\n",
    "cross_val_score1=cross_val_score(model, X_train, y_train, cv=10, scoring='r2').mean() #verified score value for train model\n",
    "print('Verified R2 value for Training model: ' + str(cross_val_score1))\n",
    "\n",
    "cross_val_score2=cross_val_score(model, X_test, y_test, cv=10, scoring='r2').mean() #verified score value for test model\n",
    "print('Verified R2 value for Testing Model: ' + str(cross_val_score2))"
   ]
  },
  {
   "cell_type": "code",
   "execution_count": 34,
   "metadata": {},
   "outputs": [
    {
     "name": "stdout",
     "output_type": "stream",
     "text": [
      "Verified RMSE value for Training model: 0.26594885256933276\n",
      "Verified RMSE value for Testing Model: 0.26570959422909\n"
     ]
    }
   ],
   "source": [
    "RMSE1=np.sqrt(-cross_val_score(model, X_train, y_train, cv=10, \n",
    "                               scoring='neg_mean_squared_error')).mean() #verified RMSE score value for train model\n",
    "print('Verified RMSE value for Training model: ' + str(RMSE1))\n",
    "\n",
    "RMSE2=np.sqrt(-cross_val_score(model, X_test, y_test, cv=10, \n",
    "                               scoring='neg_mean_squared_error')).mean() #verified RMSE score value for test model\n",
    "print('Verified RMSE value for Testing Model: ' + str(RMSE2))"
   ]
  },
  {
   "cell_type": "code",
   "execution_count": 35,
   "metadata": {},
   "outputs": [
    {
     "data": {
      "image/png": "[encoded data removed]",
      "text/plain": [
       "<Figure size 432x288 with 1 Axes>"
      ]
     },
     "metadata": {
      "needs_background": "light"
     },
     "output_type": "display_data"
    }
   ],
   "source": [
    "#Visualizing for Multiple Linear Regression y values\n",
    "\n",
    "import seaborn as sns\n",
    "ax1 = sns.distplot(y_train, hist=False, color=\"r\", label=\"Actual Value\")\n",
    "sns.distplot(y_test, hist=False, color=\"b\", label=\"Fitted Values\" , ax=ax1);"
   ]
  },
  {
   "cell_type": "code",
   "execution_count": 36,
   "metadata": {},
   "outputs": [],
   "source": [
    "#PRINCIPAL COMPONENT REGRESSION\n",
    "\n",
    "from sklearn.decomposition import PCA\n",
    "from sklearn.preprocessing import scale\n",
    "\n",
    "pca=PCA()\n",
    "X_reduced_train=pca.fit_transform(scale(X_train))"
   ]
  },
  {
   "cell_type": "code",
   "execution_count": 37,
   "metadata": {},
   "outputs": [],
   "source": [
    "explained_variance_ratio=np.cumsum(np.round(pca.explained_variance_ratio_ , decimals=4)* 100)[0:20]"
   ]
  },
  {
   "cell_type": "code",
   "execution_count": 38,
   "metadata": {},
   "outputs": [
    {
     "data": {
      "image/png": "[encoded data removed]",
      "text/plain": [
       "<Figure size 432x288 with 1 Axes>"
      ]
     },
     "metadata": {
      "needs_background": "light"
     },
     "output_type": "display_data"
    }
   ],
   "source": [
    "plt.bar(x=range(1, len(explained_variance_ratio)+1), height=explained_variance_ratio)\n",
    "plt.ylabel('percentange of explained variance')\n",
    "plt.xlabel('principal component')\n",
    "plt.title('bar plot')\n",
    "plt.show()"
   ]
  },
  {
   "cell_type": "code",
   "execution_count": 39,
   "metadata": {},
   "outputs": [
    {
     "name": "stdout",
     "output_type": "stream",
     "text": [
      "Intercept: -0.006718002665872942\n",
      "Coefficients: [-0.09307285  0.22803067  0.42071856  0.55926719  0.32286883  0.0788697\n",
      " -0.02642353 -0.38283327 -0.30887954  0.22513776  0.19079081  0.62338812\n",
      " -2.97496718]\n"
     ]
    }
   ],
   "source": [
    "lm=LinearRegression()\n",
    "pcr_model=lm.fit(X_reduced_train,y_train)\n",
    "print('Intercept: ' + str(pcr_model.intercept_))\n",
    "print('Coefficients: ' + str(pcr_model.coef_))"
   ]
  },
  {
   "cell_type": "code",
   "execution_count": 40,
   "metadata": {},
   "outputs": [
    {
     "data": {
      "text/plain": [
       "0.26593989611745983"
      ]
     },
     "execution_count": 40,
     "metadata": {},
     "output_type": "execute_result"
    }
   ],
   "source": [
    "#Prediction\n",
    "y_pred=pcr_model.predict(X_reduced_train)\n",
    "np.sqrt(mean_squared_error(y_train,y_pred))"
   ]
  },
  {
   "cell_type": "code",
   "execution_count": 41,
   "metadata": {},
   "outputs": [
    {
     "data": {
      "text/plain": [
       "-0.006024095415674543"
      ]
     },
     "execution_count": 41,
     "metadata": {},
     "output_type": "execute_result"
    }
   ],
   "source": [
    "df['motor_speed'].mean()"
   ]
  },
  {
   "cell_type": "code",
   "execution_count": 42,
   "metadata": {},
   "outputs": [
    {
     "data": {
      "text/plain": [
       "0.929573835262326"
      ]
     },
     "execution_count": 42,
     "metadata": {},
     "output_type": "execute_result"
    }
   ],
   "source": [
    "#R squared\n",
    "r2_score(y_train,y_pred) "
   ]
  },
  {
   "cell_type": "code",
   "execution_count": 43,
   "metadata": {},
   "outputs": [
    {
     "name": "stdout",
     "output_type": "stream",
     "text": [
      "RMSE for test model : 1.172454040993129\n"
     ]
    }
   ],
   "source": [
    "# Prediction For testing error \n",
    "pca2=PCA()\n",
    "\n",
    "X_reduced_test=pca2.fit_transform(scale(X_test))\n",
    "pcr_model2=lm.fit(X_test,y_test)\n",
    "\n",
    "y_pred=pcr_model2.predict(X_reduced_test)\n",
    "\n",
    "print('RMSE for test model : ' +str(np.sqrt(mean_squared_error(y_test,y_pred))))"
   ]
  },
  {
   "cell_type": "code",
   "execution_count": 44,
   "metadata": {},
   "outputs": [],
   "source": [
    "#Model Tuning for PCR\n",
    "\n",
    "lm=LinearRegression()\n",
    "pcr_model=lm.fit(X_reduced_train[:,0:10],y_train)\n",
    "y_pred=pcr_model.predict(X_reduced_test[:,0:10])\n",
    "\n",
    "from sklearn import model_selection\n",
    "\n",
    "cv_10=model_selection.KFold(n_splits=10,\n",
    "                           shuffle=True,\n",
    "                           random_state=1)"
   ]
  },
  {
   "cell_type": "code",
   "execution_count": 45,
   "metadata": {},
   "outputs": [],
   "source": [
    "lm=LinearRegression()\n",
    "RMSE=[]\n",
    "\n",
    "for i in np.arange(1,X_reduced_train.shape[1] + 1):\n",
    "    score=np.sqrt(-1*model_selection.cross_val_score(lm,\n",
    "                                                    X_reduced_train[:,:i],\n",
    "                                                    y_train.ravel(),\n",
    "                                                    cv=cv_10,\n",
    "                                                    scoring='neg_mean_squared_error').mean())\n",
    "    RMSE.append(score)"
   ]
  },
  {
   "cell_type": "code",
   "execution_count": 46,
   "metadata": {},
   "outputs": [
    {
     "data": {
      "image/png": "[encoded data removed]",
      "text/plain": [
       "<Figure size 432x288 with 1 Axes>"
      ]
     },
     "metadata": {
      "needs_background": "light"
     },
     "output_type": "display_data"
    }
   ],
   "source": [
    "plt.plot(RMSE)\n",
    "plt.xlabel('# of Components')\n",
    "plt.ylabel('RMSE')\n",
    "plt.title('PCR Model Tuning for Motor_Speed Prediction'); \n",
    "\n"
   ]
  },
  {
   "cell_type": "code",
   "execution_count": 47,
   "metadata": {},
   "outputs": [],
   "source": [
    "#KNN REGRESSION\n",
    "\n",
    "from sklearn.model_selection import GridSearchCV\n",
    "from sklearn.tree import DecisionTreeRegressor,DecisionTreeClassifier\n",
    "from sklearn.neighbors import KNeighborsRegressor\n",
    "from sklearn.ensemble import BaggingRegressor\n",
    "from sklearn.ensemble import RandomForestRegressor\n",
    "\n",
    "from warnings import filterwarnings\n",
    "filterwarnings('ignore')"
   ]
  },
  {
   "cell_type": "code",
   "execution_count": 48,
   "metadata": {},
   "outputs": [],
   "source": [
    "knn_model=KNeighborsRegressor().fit(X_train, y_train)\n",
    "y_pred=knn_model.predict(X_test)"
   ]
  },
  {
   "cell_type": "code",
   "execution_count": 49,
   "metadata": {},
   "outputs": [
    {
     "data": {
      "text/plain": [
       "(139730,)"
      ]
     },
     "execution_count": 49,
     "metadata": {},
     "output_type": "execute_result"
    }
   ],
   "source": [
    "y_pred.shape"
   ]
  },
  {
   "cell_type": "code",
   "execution_count": 50,
   "metadata": {},
   "outputs": [
    {
     "data": {
      "text/plain": [
       "2"
      ]
     },
     "execution_count": 50,
     "metadata": {},
     "output_type": "execute_result"
    }
   ],
   "source": [
    "#Model Tuning (learning best n_neighbors hyperparameter)\n",
    "knn_params={'n_neighbors' : np.arange(1,5,1)}\n",
    "\n",
    "knn=KNeighborsRegressor()\n",
    "knn_cv_model=GridSearchCV(knn, knn_params, cv=5)\n",
    "\n",
    "knn_cv_model.fit(X_train,y_train)\n",
    "knn_cv_model.best_params_[\"n_neighbors\"]"
   ]
  },
  {
   "cell_type": "code",
   "execution_count": 51,
   "metadata": {},
   "outputs": [
    {
     "name": "stdout",
     "output_type": "stream",
     "text": [
      "RMSE value:  0.0 for k=  1 RMSE values with applying Cross Validation:  0.04526366465274146\n",
      "RMSE value:  0.01269480423931161 for k=  2 RMSE values with applying Cross Validation:  0.04533575977539678\n"
     ]
    }
   ],
   "source": [
    "# Train error values from n=1 up n=2\n",
    "RMSE=[]\n",
    "RMSE_CV=[]\n",
    "for k in range(2):\n",
    "    k=k+1\n",
    "    knn_model=KNeighborsRegressor(n_neighbors=k).fit(X_train, y_train)\n",
    "    y_pred=knn_model.predict(X_train)\n",
    "    rmse=np.sqrt(mean_squared_error(y_train,y_pred))\n",
    "    rmse_cv=np.sqrt(-1*cross_val_score(knn_model,X_train,y_train,cv=2,\n",
    "                                       scoring='neg_mean_squared_error').mean())\n",
    "\n",
    "    RMSE.append(rmse)\n",
    "    RMSE_CV.append(rmse_cv)\n",
    "\n",
    "    print(\"RMSE value: \", rmse, 'for k= ',k,\n",
    "          \"RMSE values with applying Cross Validation: \", rmse_cv)"
   ]
  },
  {
   "cell_type": "code",
   "execution_count": 52,
   "metadata": {},
   "outputs": [
    {
     "data": {
      "text/plain": [
       "0.022821474040920164"
      ]
     },
     "execution_count": 52,
     "metadata": {},
     "output_type": "execute_result"
    }
   ],
   "source": [
    "#Model Tuning according to best parametre for KNN Regression\n",
    "knn_tuned=KNeighborsRegressor(n_neighbors=knn_cv_model.best_params_[\"n_neighbors\"])\n",
    "knn_tuned.fit(X_train,y_train)\n",
    "np.sqrt(mean_squared_error(y_test,knn_tuned.predict(X_test)))"
   ]
  },
  {
   "cell_type": "code",
   "execution_count": 54,
   "metadata": {},
   "outputs": [],
   "source": [
    "#POLYNOMIAL REGRESSION\n",
    "from sklearn.linear_model import LinearRegression\n",
    "from sklearn.model_selection import train_test_split\n",
    "from sklearn.preprocessing import PolynomialFeatures\n",
    "from sklearn.metrics import r2_score,mean_squared_error"
   ]
  },
  {
   "cell_type": "code",
   "execution_count": 55,
   "metadata": {},
   "outputs": [
    {
     "name": "stdout",
     "output_type": "stream",
     "text": [
      "Polynomial Linear Regression: 0.9952925131338077\n"
     ]
    }
   ],
   "source": [
    "quad = PolynomialFeatures (degree = 2)\n",
    "x_quad = quad.fit_transform(X_train)\n",
    "\n",
    "X_train,X_test,y_train,y_test = train_test_split(x_quad,y_train, random_state = 0)\n",
    "\n",
    "plr = LinearRegression().fit(X_train,y_train)\n",
    "\n",
    "Y_train_pred = plr.predict(X_train)\n",
    "Y_test_pred = plr.predict(X_test)\n",
    "\n",
    "print('Polynomial Linear Regression:' ,plr.score(X_test,y_test))"
   ]
  },
  {
   "cell_type": "code",
   "execution_count": 56,
   "metadata": {},
   "outputs": [
    {
     "name": "stdout",
     "output_type": "stream",
     "text": [
      "Coefficients: \n",
      " [ 1.41321128e+00 -2.43783587e-07 -3.29485924e-03  1.35512762e-01\n",
      " -7.17063818e-02  8.63915349e-01 -2.56930914e-01 -4.01993683e-01\n",
      "  1.93024155e-01  5.58982971e-02 -3.37524773e-01  2.38976508e-02\n",
      "  2.02081332e-01  4.01338365e-03 -3.58602037e-13 -1.73289492e-08\n",
      "  2.94610894e-07  4.28124566e-07  4.77380457e-08  1.26239630e-06\n",
      "  5.10477640e-08 -7.93506869e-07  7.01248569e-08 -1.21658944e-06\n",
      "  1.18230133e-06 -2.80463658e-07  1.24428740e-08 -5.65770069e-03\n",
      " -4.35940541e-02  2.40303913e-02  1.30127971e-03  1.90902503e-01\n",
      "  1.08563606e-02 -1.68691274e-01  3.52587064e-03  4.46099557e-02\n",
      "  3.75510914e-02 -4.61970998e-02  2.38515486e-04  5.60084124e-02\n",
      " -1.67249615e-01 -5.29407157e-02 -8.67428291e-01 -6.18203316e-02\n",
      "  6.89578552e-01  1.20629296e-01 -3.93460777e-01  2.52139672e-01\n",
      "  2.24752733e-02 -4.56653640e-03  1.51034249e-01  4.23525702e-02\n",
      " -8.65523755e-01  2.42458241e-02  1.04211515e+00 -4.88272022e-02\n",
      "  6.05818132e-01 -5.89916756e-01  1.43547904e-01 -7.94252650e-03\n",
      "  4.83464459e-03 -3.93529982e-01 -3.68994926e-01  2.48451512e-01\n",
      " -8.33159177e-03  2.41311154e-01 -3.07814169e-01  1.26412881e-01\n",
      " -1.21632830e-03  8.48652500e-01  8.06828077e-01 -3.53165302e+00\n",
      " -3.59251047e-01  4.16429697e+00 -5.26618070e+00  2.05041760e+00\n",
      " -2.20446308e-02  3.86966107e-01 -7.19107270e-01 -4.14152586e-02\n",
      "  2.18525101e-01 -2.86747677e-01  1.32231507e-01 -8.94091684e-04\n",
      "  2.72543131e+00  3.00425505e-01 -3.51907748e+00  4.60276931e+00\n",
      " -1.86121493e+00  1.35873910e-02  7.39534740e-03 -3.33505334e-01\n",
      "  3.06726391e-01 -7.83902199e-02 -1.13364969e-03  7.33884946e-01\n",
      " -1.18299170e+00  1.25521374e-01  1.73103992e-02  5.54289793e-01\n",
      " -2.27194266e-01 -1.29925987e-02  5.58642336e-02  3.39860984e-04\n",
      " -1.06051498e-04]\n",
      "Variance score: 0.9952925131338077\n"
     ]
    },
    {
     "data": {
      "image/png": "[encoded data removed]",
      "text/plain": [
       "<Figure size 432x288 with 1 Axes>"
      ]
     },
     "metadata": {},
     "output_type": "display_data"
    }
   ],
   "source": [
    "#Plotting Residual in Linear Regression \n",
    "\n",
    "from sklearn import linear_model,metrics\n",
    "#Create linear regression object\n",
    "reg=linear_model.LinearRegression()\n",
    "\n",
    "#train the model using the train data sets\n",
    "reg.fit(X_train,y_train)\n",
    "\n",
    "#regression coefficients\n",
    "print(\"Coefficients: \\n\", reg.coef_)\n",
    "\n",
    "#Variance score\n",
    "print(\"Variance score: {}\".format(reg.score(X_test,y_test)))\n",
    "\n",
    "plt.style.use('fivethirtyeight')\n",
    "\n",
    "#plotting residual errors in training data\n",
    "plt.scatter(reg.predict(X_train),reg.predict(X_train)-y_train, \n",
    "            color=\"green\", s=10, label=\"train data\")\n",
    "\n",
    "#plotting residual errors in test data\n",
    "plt.scatter(reg.predict(X_test),reg.predict(X_test)-y_test, \n",
    "            color=\"blue\", s=10, label=\"test data\")\n",
    "\n",
    "#plot line for zero residual error\n",
    "plt.hlines(y=0,xmin=-2, xmax=2, linewidth=2)\n",
    "\n",
    "#plot legend\n",
    "plt.legend(loc='upper right')\n",
    "\n",
    "#plot title\n",
    "plt.title(\"residual error\")\n",
    "\n",
    "plt.show()"
   ]
  },
  {
   "cell_type": "code",
   "execution_count": 57,
   "metadata": {},
   "outputs": [
    {
     "data": {
      "text/plain": [
       "DecisionTreeRegressor(criterion='mse', max_depth=None, max_features=None,\n",
       "                      max_leaf_nodes=None, min_impurity_decrease=0.0,\n",
       "                      min_impurity_split=None, min_samples_leaf=1,\n",
       "                      min_samples_split=2, min_weight_fraction_leaf=0.0,\n",
       "                      presort=False, random_state=0, splitter='best')"
      ]
     },
     "execution_count": 57,
     "metadata": {},
     "output_type": "execute_result"
    }
   ],
   "source": [
    "\n",
    "#Decision Tree Regression\n",
    "# Fitting Decision Tree Regression to the dataset\n",
    "from sklearn.tree import DecisionTreeRegressor\n",
    "regressor = DecisionTreeRegressor(random_state = 0)\n",
    "\n",
    "# Fit the decesion tree with the training data\n",
    "regressor.fit(X_train, y_train)\n",
    "\n"
   ]
  },
  {
   "cell_type": "code",
   "execution_count": 58,
   "metadata": {},
   "outputs": [],
   "source": [
    "# Predict the values related to test data\n",
    "y_pred = regressor.predict(X_test)"
   ]
  },
  {
   "cell_type": "code",
   "execution_count": 59,
   "metadata": {},
   "outputs": [],
   "source": [
    "# Calculate the Mean squared error\n",
    "from sklearn.metrics import mean_squared_error\n",
    "mse_dt = mean_squared_error(y_test, y_pred)"
   ]
  },
  {
   "cell_type": "code",
   "execution_count": 60,
   "metadata": {},
   "outputs": [
    {
     "name": "stdout",
     "output_type": "stream",
     "text": [
      "Mean Squared Error 0.0004551007954579\n"
     ]
    }
   ],
   "source": [
    "print(\"Mean Squared Error\", format(mse_dt))"
   ]
  },
  {
   "cell_type": "code",
   "execution_count": 61,
   "metadata": {},
   "outputs": [
    {
     "data": {
      "text/plain": [
       "RandomForestRegressor(bootstrap=True, criterion='mse', max_depth=None,\n",
       "                      max_features='auto', max_leaf_nodes=None,\n",
       "                      min_impurity_decrease=0.0, min_impurity_split=None,\n",
       "                      min_samples_leaf=1, min_samples_split=2,\n",
       "                      min_weight_fraction_leaf=0.0, n_estimators=10,\n",
       "                      n_jobs=None, oob_score=False, random_state=0, verbose=0,\n",
       "                      warm_start=False)"
      ]
     },
     "execution_count": 61,
     "metadata": {},
     "output_type": "execute_result"
    }
   ],
   "source": [
    "#Random Forest Tree Regression\n",
    "\n",
    "from sklearn.ensemble import RandomForestRegressor\n",
    "regressor_1 = RandomForestRegressor(n_estimators = 10, random_state = 0)\n",
    "regressor_1.fit(X_train, y_train)"
   ]
  },
  {
   "cell_type": "code",
   "execution_count": 62,
   "metadata": {},
   "outputs": [
    {
     "name": "stdout",
     "output_type": "stream",
     "text": [
      "Mean Squared Error of Random Forest Tree 0.00020714478344097467\n"
     ]
    }
   ],
   "source": [
    "# Predicting the test values\n",
    "y_pred_2 = regressor_1.predict(X_test)\n",
    "\n",
    "# Calculate the Mean Squared Error\n",
    "mse_rt = mean_squared_error(y_test, y_pred_2)\n",
    "print(\"Mean Squared Error of Random Forest Tree\", format(mse_rt))"
   ]
  },
  {
   "cell_type": "code",
   "execution_count": null,
   "metadata": {},
   "outputs": [],
   "source": []
  }
 ],
 "metadata": {
  "kernelspec": {
   "display_name": "Python 3",
   "language": "python",
   "name": "python3"
  },
  "language_info": {
   "codemirror_mode": {
    "name": "ipython",
    "version": 3
   },
   "file_extension": ".py",
   "mimetype": "text/x-python",
   "name": "python",
   "nbconvert_exporter": "python",
   "pygments_lexer": "ipython3",
   "version": "3.7.4"
  }
 },
 "nbformat": 4,
 "nbformat_minor": 2
}
